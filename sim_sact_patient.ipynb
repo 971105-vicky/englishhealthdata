{
 "cells": [
  {
   "cell_type": "code",
   "execution_count": 1,
   "metadata": {},
   "outputs": [],
   "source": [
    "import pandas as pd"
   ]
  },
  {
   "cell_type": "code",
   "execution_count": 6,
   "metadata": {},
   "outputs": [],
   "source": [
    "sim_sact_patient = pd.read_csv('./data/sim_sact_patient.csv', delimiter=',')"
   ]
  },
  {
   "cell_type": "code",
   "execution_count": 7,
   "metadata": {},
   "outputs": [
    {
     "data": {
      "text/html": [
       "<div>\n",
       "<style scoped>\n",
       "    .dataframe tbody tr th:only-of-type {\n",
       "        vertical-align: middle;\n",
       "    }\n",
       "\n",
       "    .dataframe tbody tr th {\n",
       "        vertical-align: top;\n",
       "    }\n",
       "\n",
       "    .dataframe thead th {\n",
       "        text-align: right;\n",
       "    }\n",
       "</style>\n",
       "<table border=\"1\" class=\"dataframe\">\n",
       "  <thead>\n",
       "    <tr style=\"text-align: right;\">\n",
       "      <th></th>\n",
       "      <th>MERGED_PATIENT_ID</th>\n",
       "      <th>LINK_NUMBER</th>\n",
       "    </tr>\n",
       "  </thead>\n",
       "  <tbody>\n",
       "    <tr>\n",
       "      <th>0</th>\n",
       "      <td>10000087</td>\n",
       "      <td>810000087</td>\n",
       "    </tr>\n",
       "    <tr>\n",
       "      <th>1</th>\n",
       "      <td>10000235</td>\n",
       "      <td>810000235</td>\n",
       "    </tr>\n",
       "    <tr>\n",
       "      <th>2</th>\n",
       "      <td>10000283</td>\n",
       "      <td>810000283</td>\n",
       "    </tr>\n",
       "    <tr>\n",
       "      <th>3</th>\n",
       "      <td>10000315</td>\n",
       "      <td>810000315</td>\n",
       "    </tr>\n",
       "    <tr>\n",
       "      <th>4</th>\n",
       "      <td>10000337</td>\n",
       "      <td>810000337</td>\n",
       "    </tr>\n",
       "    <tr>\n",
       "      <th>...</th>\n",
       "      <td>...</td>\n",
       "      <td>...</td>\n",
       "    </tr>\n",
       "    <tr>\n",
       "      <th>245933</th>\n",
       "      <td>220048551</td>\n",
       "      <td>1020048551</td>\n",
       "    </tr>\n",
       "    <tr>\n",
       "      <th>245934</th>\n",
       "      <td>220048561</td>\n",
       "      <td>1020048561</td>\n",
       "    </tr>\n",
       "    <tr>\n",
       "      <th>245935</th>\n",
       "      <td>220048569</td>\n",
       "      <td>1020048569</td>\n",
       "    </tr>\n",
       "    <tr>\n",
       "      <th>245936</th>\n",
       "      <td>220048570</td>\n",
       "      <td>1020048570</td>\n",
       "    </tr>\n",
       "    <tr>\n",
       "      <th>245937</th>\n",
       "      <td>220048574</td>\n",
       "      <td>1020048574</td>\n",
       "    </tr>\n",
       "  </tbody>\n",
       "</table>\n",
       "<p>245938 rows × 2 columns</p>\n",
       "</div>"
      ],
      "text/plain": [
       "        MERGED_PATIENT_ID  LINK_NUMBER\n",
       "0                10000087    810000087\n",
       "1                10000235    810000235\n",
       "2                10000283    810000283\n",
       "3                10000315    810000315\n",
       "4                10000337    810000337\n",
       "...                   ...          ...\n",
       "245933          220048551   1020048551\n",
       "245934          220048561   1020048561\n",
       "245935          220048569   1020048569\n",
       "245936          220048570   1020048570\n",
       "245937          220048574   1020048574\n",
       "\n",
       "[245938 rows x 2 columns]"
      ]
     },
     "execution_count": 7,
     "metadata": {},
     "output_type": "execute_result"
    }
   ],
   "source": [
    "sim_sact_patient\n"
   ]
  },
  {
   "cell_type": "code",
   "execution_count": null,
   "metadata": {},
   "outputs": [],
   "source": []
  }
 ],
 "metadata": {
  "kernelspec": {
   "display_name": "Python 3",
   "language": "python",
   "name": "python3"
  },
  "language_info": {
   "codemirror_mode": {
    "name": "ipython",
    "version": 3
   },
   "file_extension": ".py",
   "mimetype": "text/x-python",
   "name": "python",
   "nbconvert_exporter": "python",
   "pygments_lexer": "ipython3",
   "version": "3.7.5"
  }
 },
 "nbformat": 4,
 "nbformat_minor": 4
}
