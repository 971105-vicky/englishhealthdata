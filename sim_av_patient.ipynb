{
 "cells": [
  {
   "cell_type": "code",
   "execution_count": 1,
   "metadata": {},
   "outputs": [],
   "source": [
    "# import necessary modules for data analysis and visulisation\n",
    "import pandas as pd\n",
    "import numpy as np\n",
    "import matplotlib.pyplot as plt\n",
    "%matplotlib inline\n",
    "import seaborn as sns"
   ]
  },
  {
   "cell_type": "code",
   "execution_count": 2,
   "metadata": {},
   "outputs": [],
   "source": [
    "patient = pd.read_csv('./data/sim_av_patient.csv', delimiter=',')\n",
    "sact_patient = pd.read_csv('./data/sim_sact_patient.csv', delimiter=',')"
   ]
  },
  {
   "cell_type": "code",
   "execution_count": 12,
   "metadata": {},
   "outputs": [
    {
     "data": {
      "text/html": [
       "<div>\n",
       "<style scoped>\n",
       "    .dataframe tbody tr th:only-of-type {\n",
       "        vertical-align: middle;\n",
       "    }\n",
       "\n",
       "    .dataframe tbody tr th {\n",
       "        vertical-align: top;\n",
       "    }\n",
       "\n",
       "    .dataframe thead th {\n",
       "        text-align: right;\n",
       "    }\n",
       "</style>\n",
       "<table border=\"1\" class=\"dataframe\">\n",
       "  <thead>\n",
       "    <tr style=\"text-align: right;\">\n",
       "      <th></th>\n",
       "      <th>PATIENTID</th>\n",
       "      <th>SEX</th>\n",
       "      <th>LINK_NUMBER</th>\n",
       "      <th>ETHNICITY</th>\n",
       "      <th>DEATHCAUSECODE_1A</th>\n",
       "      <th>DEATHCAUSECODE_1B</th>\n",
       "      <th>DEATHCAUSECODE_1C</th>\n",
       "      <th>DEATHCAUSECODE_2</th>\n",
       "      <th>DEATHCAUSECODE_UNDERLYING</th>\n",
       "      <th>DEATHLOCATIONCODE</th>\n",
       "      <th>NEWVITALSTATUS</th>\n",
       "      <th>VITALSTATUSDATE</th>\n",
       "    </tr>\n",
       "  </thead>\n",
       "  <tbody>\n",
       "    <tr>\n",
       "      <th>0</th>\n",
       "      <td>10000001</td>\n",
       "      <td>2</td>\n",
       "      <td>810000001</td>\n",
       "      <td>A</td>\n",
       "      <td>NaN</td>\n",
       "      <td>NaN</td>\n",
       "      <td>NaN</td>\n",
       "      <td>NaN</td>\n",
       "      <td>NaN</td>\n",
       "      <td>NaN</td>\n",
       "      <td>A</td>\n",
       "      <td>2017-01-17</td>\n",
       "    </tr>\n",
       "    <tr>\n",
       "      <th>1</th>\n",
       "      <td>10000002</td>\n",
       "      <td>2</td>\n",
       "      <td>810000002</td>\n",
       "      <td>Z</td>\n",
       "      <td>NaN</td>\n",
       "      <td>NaN</td>\n",
       "      <td>NaN</td>\n",
       "      <td>NaN</td>\n",
       "      <td>NaN</td>\n",
       "      <td>NaN</td>\n",
       "      <td>A</td>\n",
       "      <td>2017-01-14</td>\n",
       "    </tr>\n",
       "    <tr>\n",
       "      <th>2</th>\n",
       "      <td>10000003</td>\n",
       "      <td>1</td>\n",
       "      <td>810000003</td>\n",
       "      <td>A</td>\n",
       "      <td>NaN</td>\n",
       "      <td>NaN</td>\n",
       "      <td>NaN</td>\n",
       "      <td>NaN</td>\n",
       "      <td>NaN</td>\n",
       "      <td>NaN</td>\n",
       "      <td>A</td>\n",
       "      <td>2017-01-17</td>\n",
       "    </tr>\n",
       "    <tr>\n",
       "      <th>3</th>\n",
       "      <td>10000004</td>\n",
       "      <td>1</td>\n",
       "      <td>810000004</td>\n",
       "      <td>A</td>\n",
       "      <td>NaN</td>\n",
       "      <td>NaN</td>\n",
       "      <td>NaN</td>\n",
       "      <td>NaN</td>\n",
       "      <td>NaN</td>\n",
       "      <td>NaN</td>\n",
       "      <td>A</td>\n",
       "      <td>2017-01-13</td>\n",
       "    </tr>\n",
       "    <tr>\n",
       "      <th>4</th>\n",
       "      <td>10000005</td>\n",
       "      <td>2</td>\n",
       "      <td>810000005</td>\n",
       "      <td>NaN</td>\n",
       "      <td>NaN</td>\n",
       "      <td>NaN</td>\n",
       "      <td>NaN</td>\n",
       "      <td>NaN</td>\n",
       "      <td>NaN</td>\n",
       "      <td>NaN</td>\n",
       "      <td>A</td>\n",
       "      <td>2017-01-16</td>\n",
       "    </tr>\n",
       "  </tbody>\n",
       "</table>\n",
       "</div>"
      ],
      "text/plain": [
       "   PATIENTID  SEX  LINK_NUMBER ETHNICITY DEATHCAUSECODE_1A DEATHCAUSECODE_1B  \\\n",
       "0   10000001    2    810000001         A               NaN               NaN   \n",
       "1   10000002    2    810000002         Z               NaN               NaN   \n",
       "2   10000003    1    810000003         A               NaN               NaN   \n",
       "3   10000004    1    810000004         A               NaN               NaN   \n",
       "4   10000005    2    810000005       NaN               NaN               NaN   \n",
       "\n",
       "  DEATHCAUSECODE_1C DEATHCAUSECODE_2 DEATHCAUSECODE_UNDERLYING  \\\n",
       "0               NaN              NaN                       NaN   \n",
       "1               NaN              NaN                       NaN   \n",
       "2               NaN              NaN                       NaN   \n",
       "3               NaN              NaN                       NaN   \n",
       "4               NaN              NaN                       NaN   \n",
       "\n",
       "  DEATHLOCATIONCODE NEWVITALSTATUS VITALSTATUSDATE  \n",
       "0               NaN              A      2017-01-17  \n",
       "1               NaN              A      2017-01-14  \n",
       "2               NaN              A      2017-01-17  \n",
       "3               NaN              A      2017-01-13  \n",
       "4               NaN              A      2017-01-16  "
      ]
     },
     "execution_count": 12,
     "metadata": {},
     "output_type": "execute_result"
    }
   ],
   "source": [
    "patient.head()"
   ]
  },
  {
   "cell_type": "code",
   "execution_count": 14,
   "metadata": {},
   "outputs": [
    {
     "data": {
      "text/plain": [
       "1    138327\n",
       "4     98681\n",
       "2     40284\n",
       "X     28209\n",
       "5     17024\n",
       "6      7146\n",
       "3       709\n",
       "Name: DEATHLOCATIONCODE, dtype: int64"
      ]
     },
     "execution_count": 14,
     "metadata": {},
     "output_type": "execute_result"
    }
   ],
   "source": [
    "patient['DEATHLOCATIONCODE'].value_counts()"
   ]
  },
  {
   "cell_type": "markdown",
   "metadata": {},
   "source": [
    "## About this table\n",
    "This table contains 12 columns, which are about the synthetic patients' demographic information and vital status, as well as death cause of those who are deceased. The columns are:\n",
    "- Patient ID\n",
    "- Sex\n",
    "- Link Number (allows linkeage to another table)\n",
    "- Ethnicity\n",
    "- Death Cause Code (1A, 1B, 1C, 2, Underlying)\n",
    "- Death Location Code\n",
    "- Vital Status\n",
    "- Vital Status Date\n",
    "\n",
    "There are 1,322,100 entries in this table."
   ]
  },
  {
   "cell_type": "code",
   "execution_count": 3,
   "metadata": {},
   "outputs": [
    {
     "name": "stdout",
     "output_type": "stream",
     "text": [
      "<class 'pandas.core.frame.DataFrame'>\n",
      "RangeIndex: 1322100 entries, 0 to 1322099\n",
      "Data columns (total 12 columns):\n",
      "PATIENTID                    1322100 non-null int64\n",
      "SEX                          1322100 non-null int64\n",
      "LINKNUMBER                   1322100 non-null int64\n",
      "ETHNICITY                    1192249 non-null object\n",
      "DEATHCAUSECODE_1A            330280 non-null object\n",
      "DEATHCAUSECODE_1B            98085 non-null object\n",
      "DEATHCAUSECODE_1C            18106 non-null object\n",
      "DEATHCAUSECODE_2             141982 non-null object\n",
      "DEATHCAUSECODE_UNDERLYING    327910 non-null object\n",
      "DEATHLOCATIONCODE            330381 non-null object\n",
      "NEWVITALSTATUS               1322100 non-null object\n",
      "VITALSTATUSDATE              1322100 non-null object\n",
      "dtypes: int64(3), object(9)\n",
      "memory usage: 121.0+ MB\n"
     ]
    }
   ],
   "source": [
    "patient.info()"
   ]
  },
  {
   "cell_type": "markdown",
   "metadata": {},
   "source": [
    "## Data Cleaning"
   ]
  },
  {
   "cell_type": "markdown",
   "metadata": {},
   "source": [
    "### Inconsistent delimiters in death cause code columns\n",
    "There are several columns in this table which represent death causes of the patients. These death causes are recorded with ICD-10 codes and if a patient died because multiple factors, their codes are separated by commas.\n",
    "\n",
    "However, in some of the rows, the delimiter is space rather than comma, which should be fixed."
   ]
  },
  {
   "cell_type": "code",
   "execution_count": 15,
   "metadata": {},
   "outputs": [],
   "source": [
    "def space_to_comma(code):\n",
    "    if type(code) == str:\n",
    "        if code.count(' ') > 0 and any(x.isdigit() for x in code):\n",
    "            code = code.replace(' ', ',')\n",
    "            return code\n",
    "        else:\n",
    "            return code\n",
    "    else:\n",
    "        return code\n",
    "\n",
    "patient['DEATHCAUSECODE_1A'] = patient['DEATHCAUSECODE_1A'].map(space_to_comma)"
   ]
  },
  {
   "cell_type": "markdown",
   "metadata": {},
   "source": [
    "### Date format conversion and errors on vital status date\n",
    "First we turned the format of vital status dates into `Pandas Timestamp`, which can be easily compared and calculated. Then we found 31 outliers where the date was on 01/01/1990. These can be blank values in database and we decided to drop these entries."
   ]
  },
  {
   "cell_type": "code",
   "execution_count": 5,
   "metadata": {},
   "outputs": [],
   "source": [
    "# Turn the vital status data into Pandas Timestamp \n",
    "patient['VITALSTATUSDATE'] = pd.to_datetime(patient['VITALSTATUSDATE'])\n",
    "\n",
    "# Drop the rows with an error on date by comparing with another Timestamp\n",
    "patient.drop(patient[patient['VITALSTATUSDATE'] < pd.Timestamp('2000-01-01 00:00:00')].index, inplace=True)\n",
    "\n",
    "# This line is to check if these entries are dropped and should return no entries\n",
    "# patient[patient['VITALSTATUSDATE'] < pd.Timestamp('2000-01-01 00:00:00')]"
   ]
  },
  {
   "cell_type": "markdown",
   "metadata": {},
   "source": [
    "### Inconsistent column name\n",
    "This table can be linked to the Systemic Anti-Cancer Therapy (SACT) tables (sim_sact) by an overlapped column 'LINKNUMBER' but the names were different in the two tables, so we changged it to 'LINK_NUMBER' in order to keep consistent."
   ]
  },
  {
   "cell_type": "code",
   "execution_count": 6,
   "metadata": {},
   "outputs": [],
   "source": [
    "# Change the column name to 'LINK_NUMBER' in place.\n",
    "patient.rename(columns={'LINKNUMBER': 'LINK_NUMBER'}, inplace=True)\n",
    "\n",
    "# This line is to check if the name is correctly changed and should return a Series\n",
    "# patient['LINK_NUMBER']"
   ]
  },
  {
   "cell_type": "code",
   "execution_count": null,
   "metadata": {},
   "outputs": [],
   "source": [
    "death_cause_1a_num = {}\n",
    "\n",
    "def calculate_death_causes(code):\n",
    "    if type(code) == str:\n",
    "        for i in code.split(','):\n",
    "            if i not in death_cause_1a_num:\n",
    "                death_cause_1a_num[i] = 1\n",
    "            else:\n",
    "                death_cause_1a_num[i] += 1\n",
    "    else:\n",
    "        pass\n",
    "\n",
    "patient['DEATHCAUSECODE_1A'].map(calculate_death_causes)\n",
    "patient['DEATHCAUSECODE_1B'].map(calculate_death_causes)\n",
    "patient['DEATHCAUSECODE_1C'].map(calculate_death_causes)\n",
    "patient['DEATHCAUSECODE_2'].map(calculate_death_causes)\n",
    "patient['DEATHCAUSECODE_UNDERLYING'].map(calculate_death_causes)\n",
    "\n",
    "death_causes_1a = pd.Series(death_cause_1a_num)\n",
    "# death_causes_1a.idxmin()"
   ]
  },
  {
   "cell_type": "code",
   "execution_count": 28,
   "metadata": {},
   "outputs": [
    {
     "name": "stdout",
     "output_type": "stream",
     "text": [
      "ISCHAEMIC HEART DISEASE\n",
      "BRONCHOPNEUMONIA\n",
      "CEREBROVASCULAR ACCIDENT\n",
      "DEEP VEIN THROMBOSIS\n",
      "ACUTE CARDIAC FAILURE\n",
      "RESPIRATORY FAILURE\n",
      "CARDIORESPIRATORY FAILURE\n",
      "PNEUMONIA\n",
      "CARCINOMATOSIS\n"
     ]
    }
   ],
   "source": [
    "death_cause_1a_num.keys()\n",
    "\n",
    "for i in death_cause_1a_num.keys():\n",
    "    if len(i) >= 5:\n",
    "        print(i)\n",
    "\n"
   ]
  },
  {
   "cell_type": "code",
   "execution_count": 10,
   "metadata": {},
   "outputs": [
    {
     "data": {
      "text/html": [
       "<div>\n",
       "<style scoped>\n",
       "    .dataframe tbody tr th:only-of-type {\n",
       "        vertical-align: middle;\n",
       "    }\n",
       "\n",
       "    .dataframe tbody tr th {\n",
       "        vertical-align: top;\n",
       "    }\n",
       "\n",
       "    .dataframe thead th {\n",
       "        text-align: right;\n",
       "    }\n",
       "</style>\n",
       "<table border=\"1\" class=\"dataframe\">\n",
       "  <thead>\n",
       "    <tr style=\"text-align: right;\">\n",
       "      <th></th>\n",
       "      <th>PATIENTID</th>\n",
       "      <th>SEX</th>\n",
       "      <th>LINK_NUMBER</th>\n",
       "      <th>ETHNICITY</th>\n",
       "      <th>DEATHCAUSECODE_1A</th>\n",
       "      <th>DEATHCAUSECODE_1B</th>\n",
       "      <th>DEATHCAUSECODE_1C</th>\n",
       "      <th>DEATHCAUSECODE_2</th>\n",
       "      <th>DEATHCAUSECODE_UNDERLYING</th>\n",
       "      <th>DEATHLOCATIONCODE</th>\n",
       "      <th>NEWVITALSTATUS</th>\n",
       "      <th>VITALSTATUSDATE</th>\n",
       "    </tr>\n",
       "  </thead>\n",
       "  <tbody>\n",
       "  </tbody>\n",
       "</table>\n",
       "</div>"
      ],
      "text/plain": [
       "Empty DataFrame\n",
       "Columns: [PATIENTID, SEX, LINK_NUMBER, ETHNICITY, DEATHCAUSECODE_1A, DEATHCAUSECODE_1B, DEATHCAUSECODE_1C, DEATHCAUSECODE_2, DEATHCAUSECODE_UNDERLYING, DEATHLOCATIONCODE, NEWVITALSTATUS, VITALSTATUSDATE]\n",
       "Index: []"
      ]
     },
     "execution_count": 10,
     "metadata": {},
     "output_type": "execute_result"
    }
   ],
   "source": [
    "patient[patient['DEATHCAUSECODE_1A'] == 'C793 C780 C779 C795']"
   ]
  },
  {
   "cell_type": "markdown",
   "metadata": {},
   "source": [
    "## Demographic Information\n",
    "\n",
    "[Ethnicity Category Code](https://www.datadictionary.nhs.uk/data_dictionary/attributes/e/end/ethnic_category_code_de.asp)"
   ]
  },
  {
   "cell_type": "code",
   "execution_count": 11,
   "metadata": {},
   "outputs": [],
   "source": [
    "# Group the data by sex and ethnicity to see the demographic information of patients.\n",
    "group_a = patient.groupby(['SEX', 'ETHNICITY' ]).count()\n",
    "\n",
    "# The proportion of ethnic groups among male patients\n",
    "m_ethnicity = group_a['PATIENTID'][0:20]\n",
    "m_ethnicity_codes = [x[1] for x in m_ethnicity.index]\n",
    "ethnicity_names = ['', '', 'British', 'Irish', 'Any other White background', 'White and Black Caribbean', 'White and Black African', 'White and Asian', 'Any other mixed background', 'Indian', 'Pakistani', 'Bangladeshi', 'Any other Asian background', 'Caribbean', 'African', 'Any other black background', 'Chinese', 'Any other ethnic group', '', 'Not stated']\n",
    "m_labels = list(zip(m_ethnicity_codes, ethnicity_names))\n",
    "\n",
    "# # The proportion of ethnic groups among non-British male patients\n",
    "m_non_british = m_ethnicity.drop(labels=(1, 'A'))\n",
    "m_non_british_labels = list(zip(m_ethnicity_codes, ethnicity_names))\n",
    "m_non_british_labels.remove(('A', 'British'))"
   ]
  },
  {
   "cell_type": "code",
   "execution_count": null,
   "metadata": {},
   "outputs": [],
   "source": [
    "# Visualise the proportion in two pie charts\n",
    "fig1, ax1 = plt.subplots(1, 2, figsize=(24, 24))\n",
    "ax1[0].pie(m_ethnicity, textprops={'fontsize': 8})\n",
    "ax1[1].pie(m_non_british, labels= [x[0] for x in m_non_british_labels])\n",
    "ax1[0].set_title('Proportion of ethnic groups(Male)')\n",
    "ax1[1].set_title('Proportion of ethnic groups(Male, exclude British)')\n",
    "ax1[0].legend(m_labels)\n",
    "ax1[1].legend(m_non_british_labels)\n",
    "\n",
    "plt.show()"
   ]
  },
  {
   "cell_type": "code",
   "execution_count": null,
   "metadata": {},
   "outputs": [],
   "source": [
    "# The proportion of ethnic groups among female patients\n",
    "fm_ethnicity = group_a['PATIENTID'][20:40]\n",
    "fm_ethnicity_codes = [x[1] for x in fm_ethnicity.index]\n",
    "fm_labels = list(zip(fm_ethnicity_codes, ethnicity_names))\n",
    "\n",
    "# The proportion of ethnic groups among non-british female patients\n",
    "fm_non_british = fm_ethnicity.drop(labels=(2, 'A'))\n",
    "fm_non_british_labels = list(zip(fm_ethnicity_codes, ethnicity_names))\n",
    "fm_non_british_labels.remove(('A', 'British'))"
   ]
  },
  {
   "cell_type": "code",
   "execution_count": null,
   "metadata": {},
   "outputs": [],
   "source": [
    "# Visualise the proportion in two pie charts\n",
    "fig2, ax2 = plt.subplots(1, 2, figsize=(24, 24))\n",
    "ax2[0].pie(fm_ethnicity)\n",
    "ax2[1].pie(fm_non_british, labels=[x[0] for x in fm_non_british_labels])\n",
    "ax2[0].set_title('Proportion of ethnic groups(Female)')\n",
    "ax2[1].set_title('Proportion of ethnic groups(Female, exclude British)')\n",
    "ax2[0].legend(fm_labels)\n",
    "ax2[1].legend(fm_non_british_labels)\n",
    "\n",
    "plt.show()"
   ]
  },
  {
   "cell_type": "code",
   "execution_count": null,
   "metadata": {},
   "outputs": [],
   "source": [
    "group_b = patient.groupby('DEATHCAUSECODE_1A').count()\n",
    "# group_b\n",
    "# group_b['PATIENTID'].plot()"
   ]
  },
  {
   "cell_type": "code",
   "execution_count": null,
   "metadata": {},
   "outputs": [],
   "source": [
    "patient['DEATHLOCATIONCODE'].value_counts().sum()"
   ]
  },
  {
   "cell_type": "markdown",
   "metadata": {},
   "source": [
    "## Death Location"
   ]
  },
  {
   "cell_type": "code",
   "execution_count": null,
   "metadata": {},
   "outputs": [],
   "source": []
  },
  {
   "cell_type": "markdown",
   "metadata": {},
   "source": [
    "## Death Cause"
   ]
  },
  {
   "cell_type": "code",
   "execution_count": 26,
   "metadata": {},
   "outputs": [
    {
     "name": "stdout",
     "output_type": "stream",
     "text": [
      "C349 51779\n",
      "G904 1\n"
     ]
    }
   ],
   "source": [
    "death_causes_1a = pd.Series(death_cause_1a_num)\n",
    "\n",
    "print(death_causes_1a.idxmax(), death_causes_1a.max())\n",
    "print(death_causes_1a.idxmin(), death_causes_1a.min())"
   ]
  },
  {
   "cell_type": "markdown",
   "metadata": {},
   "source": [
    "## Reference\n",
    "[Ethnicity Category Code](https://www.datadictionary.nhs.uk/data_dictionary/attributes/e/end/ethnic_category_code_de.asp)"
   ]
  },
  {
   "cell_type": "markdown",
   "metadata": {},
   "source": []
  },
  {
   "cell_type": "code",
   "execution_count": null,
   "metadata": {},
   "outputs": [],
   "source": [
    "# patient['VITALSTATUSDATE'] = pd.to_datetime(patient['VITALSTATUSDATE'])\n",
    "\n",
    "# patient[patient['VITALSTATUSDATE']<pd.Timestamp('2000-01-01 00:00:00')]\n",
    "\n",
    "# clean_data = patient.drop(patient[patient['VITALSTATUSDATE'] == '1900-01-01'].index)\n",
    "# sns.scatterplot(x=clean_data['VITALSTATUSDATE'], y=clean_data['VITALSTATUSDATE'])\n",
    "# patient['VITALSTATUSDATE'][0]\n",
    "# plt.show()"
   ]
  },
  {
   "cell_type": "code",
   "execution_count": null,
   "metadata": {},
   "outputs": [],
   "source": []
  },
  {
   "cell_type": "code",
   "execution_count": null,
   "metadata": {},
   "outputs": [],
   "source": []
  },
  {
   "cell_type": "code",
   "execution_count": null,
   "metadata": {},
   "outputs": [],
   "source": []
  }
 ],
 "metadata": {
  "kernelspec": {
   "display_name": "Python 3",
   "language": "python",
   "name": "python3"
  },
  "language_info": {
   "codemirror_mode": {
    "name": "ipython",
    "version": 3
   },
   "file_extension": ".py",
   "mimetype": "text/x-python",
   "name": "python",
   "nbconvert_exporter": "python",
   "pygments_lexer": "ipython3",
   "version": "3.7.5"
  }
 },
 "nbformat": 4,
 "nbformat_minor": 4
}
