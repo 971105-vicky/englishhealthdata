{
 "cells": [
  {
   "cell_type": "markdown",
   "metadata": {},
   "source": [
    "## Importing data"
   ]
  },
  {
   "cell_type": "code",
   "execution_count": 1,
   "metadata": {
    "pycharm": {
     "is_executing": false
    }
   },
   "outputs": [],
   "source": [
    "# import necessary modules for data analysis and visualisation\n",
    "import pandas as pd\n",
    "import numpy as np\n",
    "import matplotlib.pyplot as plt\n",
    "%matplotlib inline\n",
    "import seaborn as sns"
   ]
  },
  {
   "cell_type": "code",
   "execution_count": 2,
   "metadata": {
    "pycharm": {
     "is_executing": false
    }
   },
   "outputs": [],
   "source": [
    "patient = pd.read_csv('./data/sim_av_patient.csv', delimiter=',')\n",
    "sact_patient = pd.read_csv('./data/sim_sact_patient.csv', delimiter=',')"
   ]
  },
  {
   "cell_type": "code",
   "execution_count": 3,
   "metadata": {
    "pycharm": {
     "is_executing": false
    }
   },
   "outputs": [
    {
     "data": {
      "text/html": [
       "<div>\n",
       "<style scoped>\n",
       "    .dataframe tbody tr th:only-of-type {\n",
       "        vertical-align: middle;\n",
       "    }\n",
       "\n",
       "    .dataframe tbody tr th {\n",
       "        vertical-align: top;\n",
       "    }\n",
       "\n",
       "    .dataframe thead th {\n",
       "        text-align: right;\n",
       "    }\n",
       "</style>\n",
       "<table border=\"1\" class=\"dataframe\">\n",
       "  <thead>\n",
       "    <tr style=\"text-align: right;\">\n",
       "      <th></th>\n",
       "      <th>PATIENTID</th>\n",
       "      <th>SEX</th>\n",
       "      <th>LINKNUMBER</th>\n",
       "      <th>ETHNICITY</th>\n",
       "      <th>DEATHCAUSECODE_1A</th>\n",
       "      <th>DEATHCAUSECODE_1B</th>\n",
       "      <th>DEATHCAUSECODE_1C</th>\n",
       "      <th>DEATHCAUSECODE_2</th>\n",
       "      <th>DEATHCAUSECODE_UNDERLYING</th>\n",
       "      <th>DEATHLOCATIONCODE</th>\n",
       "      <th>NEWVITALSTATUS</th>\n",
       "      <th>VITALSTATUSDATE</th>\n",
       "    </tr>\n",
       "  </thead>\n",
       "  <tbody>\n",
       "    <tr>\n",
       "      <th>0</th>\n",
       "      <td>10000001</td>\n",
       "      <td>2</td>\n",
       "      <td>810000001</td>\n",
       "      <td>A</td>\n",
       "      <td>NaN</td>\n",
       "      <td>NaN</td>\n",
       "      <td>NaN</td>\n",
       "      <td>NaN</td>\n",
       "      <td>NaN</td>\n",
       "      <td>NaN</td>\n",
       "      <td>A</td>\n",
       "      <td>2017-01-17</td>\n",
       "    </tr>\n",
       "    <tr>\n",
       "      <th>1</th>\n",
       "      <td>10000002</td>\n",
       "      <td>2</td>\n",
       "      <td>810000002</td>\n",
       "      <td>Z</td>\n",
       "      <td>NaN</td>\n",
       "      <td>NaN</td>\n",
       "      <td>NaN</td>\n",
       "      <td>NaN</td>\n",
       "      <td>NaN</td>\n",
       "      <td>NaN</td>\n",
       "      <td>A</td>\n",
       "      <td>2017-01-14</td>\n",
       "    </tr>\n",
       "    <tr>\n",
       "      <th>2</th>\n",
       "      <td>10000003</td>\n",
       "      <td>1</td>\n",
       "      <td>810000003</td>\n",
       "      <td>A</td>\n",
       "      <td>NaN</td>\n",
       "      <td>NaN</td>\n",
       "      <td>NaN</td>\n",
       "      <td>NaN</td>\n",
       "      <td>NaN</td>\n",
       "      <td>NaN</td>\n",
       "      <td>A</td>\n",
       "      <td>2017-01-17</td>\n",
       "    </tr>\n",
       "    <tr>\n",
       "      <th>3</th>\n",
       "      <td>10000004</td>\n",
       "      <td>1</td>\n",
       "      <td>810000004</td>\n",
       "      <td>A</td>\n",
       "      <td>NaN</td>\n",
       "      <td>NaN</td>\n",
       "      <td>NaN</td>\n",
       "      <td>NaN</td>\n",
       "      <td>NaN</td>\n",
       "      <td>NaN</td>\n",
       "      <td>A</td>\n",
       "      <td>2017-01-13</td>\n",
       "    </tr>\n",
       "    <tr>\n",
       "      <th>4</th>\n",
       "      <td>10000005</td>\n",
       "      <td>2</td>\n",
       "      <td>810000005</td>\n",
       "      <td>NaN</td>\n",
       "      <td>NaN</td>\n",
       "      <td>NaN</td>\n",
       "      <td>NaN</td>\n",
       "      <td>NaN</td>\n",
       "      <td>NaN</td>\n",
       "      <td>NaN</td>\n",
       "      <td>A</td>\n",
       "      <td>2017-01-16</td>\n",
       "    </tr>\n",
       "  </tbody>\n",
       "</table>\n",
       "</div>"
      ],
      "text/plain": [
       "   PATIENTID  SEX  LINKNUMBER ETHNICITY DEATHCAUSECODE_1A DEATHCAUSECODE_1B  \\\n",
       "0   10000001    2   810000001         A               NaN               NaN   \n",
       "1   10000002    2   810000002         Z               NaN               NaN   \n",
       "2   10000003    1   810000003         A               NaN               NaN   \n",
       "3   10000004    1   810000004         A               NaN               NaN   \n",
       "4   10000005    2   810000005       NaN               NaN               NaN   \n",
       "\n",
       "  DEATHCAUSECODE_1C DEATHCAUSECODE_2 DEATHCAUSECODE_UNDERLYING  \\\n",
       "0               NaN              NaN                       NaN   \n",
       "1               NaN              NaN                       NaN   \n",
       "2               NaN              NaN                       NaN   \n",
       "3               NaN              NaN                       NaN   \n",
       "4               NaN              NaN                       NaN   \n",
       "\n",
       "  DEATHLOCATIONCODE NEWVITALSTATUS VITALSTATUSDATE  \n",
       "0               NaN              A      2017-01-17  \n",
       "1               NaN              A      2017-01-14  \n",
       "2               NaN              A      2017-01-17  \n",
       "3               NaN              A      2017-01-13  \n",
       "4               NaN              A      2017-01-16  "
      ]
     },
     "execution_count": 3,
     "metadata": {},
     "output_type": "execute_result"
    }
   ],
   "source": [
    "patient.head()"
   ]
  },
  {
   "cell_type": "code",
   "execution_count": 4,
   "metadata": {
    "pycharm": {
     "is_executing": false
    }
   },
   "outputs": [
    {
     "data": {
      "text/plain": [
       "1    138327\n",
       "4     98681\n",
       "2     40284\n",
       "X     28209\n",
       "5     17025\n",
       "6      7146\n",
       "3       709\n",
       "Name: DEATHLOCATIONCODE, dtype: int64"
      ]
     },
     "execution_count": 4,
     "metadata": {},
     "output_type": "execute_result"
    }
   ],
   "source": [
    "patient['DEATHLOCATIONCODE'].value_counts()"
   ]
  },
  {
   "cell_type": "markdown",
   "metadata": {},
   "source": [
    "## About this table\n",
    "This table contains 12 columns, which are about the synthetic patients' demographic information and vital status, as well as death cause of those who are deceased. The columns are:\n",
    "- Patient ID\n",
    "- Sex\n",
    "- Link Number (allows linkeage to another table)\n",
    "- Ethnicity\n",
    "- Death Cause Code * 5 (1A, 1B, 1C, 2, Underlying)\n",
    "- Death Location Code\n",
    "- Vital Status\n",
    "- Vital Status Date\n",
    "\n",
    "There are 1,322,100 entries in this table."
   ]
  },
  {
   "cell_type": "code",
   "execution_count": 5,
   "metadata": {
    "pycharm": {
     "is_executing": false
    }
   },
   "outputs": [
    {
     "name": "stdout",
     "output_type": "stream",
     "text": [
      "<class 'pandas.core.frame.DataFrame'>\n",
      "RangeIndex: 1322100 entries, 0 to 1322099\n",
      "Data columns (total 12 columns):\n",
      "PATIENTID                    1322100 non-null int64\n",
      "SEX                          1322100 non-null int64\n",
      "LINKNUMBER                   1322100 non-null int64\n",
      "ETHNICITY                    1192249 non-null object\n",
      "DEATHCAUSECODE_1A            330280 non-null object\n",
      "DEATHCAUSECODE_1B            98085 non-null object\n",
      "DEATHCAUSECODE_1C            18106 non-null object\n",
      "DEATHCAUSECODE_2             141982 non-null object\n",
      "DEATHCAUSECODE_UNDERLYING    327910 non-null object\n",
      "DEATHLOCATIONCODE            330381 non-null object\n",
      "NEWVITALSTATUS               1322100 non-null object\n",
      "VITALSTATUSDATE              1322100 non-null object\n",
      "dtypes: int64(3), object(9)\n",
      "memory usage: 121.0+ MB\n"
     ]
    }
   ],
   "source": [
    "patient.info()"
   ]
  },
  {
   "cell_type": "markdown",
   "metadata": {},
   "source": [
    "## Data Cleaning"
   ]
  },
  {
   "cell_type": "markdown",
   "metadata": {},
   "source": [
    "### Inconsistent delimiters in death cause code columns\n",
    "There are several columns in this table which represent death causes of the patients. These death causes are recorded with ICD-10 codes and if a patient died because multiple factors, their codes are separated by commas.\n",
    "\n",
    "However, in some of the rows, the delimiter is space(' '), semicolon(';'), or full-stop('.') rather than comma, which should be fixed."
   ]
  },
  {
   "cell_type": "code",
   "execution_count": 6,
   "metadata": {
    "pycharm": {
     "is_executing": false
    }
   },
   "outputs": [],
   "source": [
    "# Define a function which is used to turn all other delimiters in death cause code columns with commas.\n",
    "def to_comma(code):\n",
    "    if type(code) == str:\n",
    "        if code.count(' ') > 0 and any(x.isdigit() for x in code):   # Replace space with commas.\n",
    "            code = code.replace(' ', ',')\n",
    "            return code\n",
    "        elif code.count(';') > 0 and any(x.isdigit() for x in code):  # Replace semicolons with commas.\n",
    "            code = code.replace(';', ',')\n",
    "            return code\n",
    "        elif code.count('.') > 0 and any(x.isdigit() for x in code): # Replace full-stops with commas.\n",
    "            code = code.replace('.', ',')\n",
    "        else:\n",
    "            return code\n",
    "    else:\n",
    "        return code\n",
    "    \n",
    "    \n",
    "# Apply the function to all the death cause code columns with `Series.map()`.\n",
    "patient['DEATHCAUSECODE_1A'] = patient['DEATHCAUSECODE_1A'].map(to_comma)\n",
    "patient['DEATHCAUSECODE_1B'] = patient['DEATHCAUSECODE_1B'].map(to_comma)\n",
    "patient['DEATHCAUSECODE_1C'] = patient['DEATHCAUSECODE_1C'].map(to_comma)\n",
    "patient['DEATHCAUSECODE_2'] = patient['DEATHCAUSECODE_2'].map(to_comma)\n",
    "patient['DEATHCAUSECODE_UNDERLYING'] = patient['DEATHCAUSECODE_UNDERLYING'].map(to_comma)"
   ]
  },
  {
   "cell_type": "code",
   "execution_count": 7,
   "metadata": {},
   "outputs": [
    {
     "data": {
      "text/html": [
       "<div>\n",
       "<style scoped>\n",
       "    .dataframe tbody tr th:only-of-type {\n",
       "        vertical-align: middle;\n",
       "    }\n",
       "\n",
       "    .dataframe tbody tr th {\n",
       "        vertical-align: top;\n",
       "    }\n",
       "\n",
       "    .dataframe thead th {\n",
       "        text-align: right;\n",
       "    }\n",
       "</style>\n",
       "<table border=\"1\" class=\"dataframe\">\n",
       "  <thead>\n",
       "    <tr style=\"text-align: right;\">\n",
       "      <th></th>\n",
       "      <th>PATIENTID</th>\n",
       "      <th>SEX</th>\n",
       "      <th>LINKNUMBER</th>\n",
       "      <th>ETHNICITY</th>\n",
       "      <th>DEATHCAUSECODE_1A</th>\n",
       "      <th>DEATHCAUSECODE_1B</th>\n",
       "      <th>DEATHCAUSECODE_1C</th>\n",
       "      <th>DEATHCAUSECODE_2</th>\n",
       "      <th>DEATHCAUSECODE_UNDERLYING</th>\n",
       "      <th>DEATHLOCATIONCODE</th>\n",
       "      <th>NEWVITALSTATUS</th>\n",
       "      <th>VITALSTATUSDATE</th>\n",
       "    </tr>\n",
       "  </thead>\n",
       "  <tbody>\n",
       "    <tr>\n",
       "      <th>515368</th>\n",
       "      <td>30059690</td>\n",
       "      <td>1</td>\n",
       "      <td>830059690</td>\n",
       "      <td>A</td>\n",
       "      <td>K922</td>\n",
       "      <td>BILATEARL PULMONARY EMBOLISM, ASPIRATION PNEUM...</td>\n",
       "      <td>NaN</td>\n",
       "      <td>J459</td>\n",
       "      <td>J449</td>\n",
       "      <td>1</td>\n",
       "      <td>D</td>\n",
       "      <td>2016-06-17</td>\n",
       "    </tr>\n",
       "  </tbody>\n",
       "</table>\n",
       "</div>"
      ],
      "text/plain": [
       "        PATIENTID  SEX  LINKNUMBER ETHNICITY DEATHCAUSECODE_1A  \\\n",
       "515368   30059690    1   830059690         A              K922   \n",
       "\n",
       "                                        DEATHCAUSECODE_1B DEATHCAUSECODE_1C  \\\n",
       "515368  BILATEARL PULMONARY EMBOLISM, ASPIRATION PNEUM...               NaN   \n",
       "\n",
       "       DEATHCAUSECODE_2 DEATHCAUSECODE_UNDERLYING DEATHLOCATIONCODE  \\\n",
       "515368             J459                      J449                 1   \n",
       "\n",
       "       NEWVITALSTATUS VITALSTATUSDATE  \n",
       "515368              D      2016-06-17  "
      ]
     },
     "execution_count": 7,
     "metadata": {},
     "output_type": "execute_result"
    }
   ],
   "source": [
    "# patient[patient['PATIENTID'] == 140025403]\n",
    "patient[patient['PATIENTID'] == 30059690]"
   ]
  },
  {
   "cell_type": "markdown",
   "metadata": {},
   "source": [
    "After converting all the inconsistent delimiters, I tried to split all the cells containing multiple death causes and calculate how many times a death cause code showed in this table, this is to see:\n",
    "1. If all the delimiters were correctly turned into commas.\n",
    "2. If there was any other value that was not recoreded in ICD-10 codes."
   ]
  },
  {
   "cell_type": "code",
   "execution_count": 22,
   "metadata": {},
   "outputs": [
    {
     "data": {
      "text/plain": [
       "1"
      ]
     },
     "execution_count": 22,
     "metadata": {},
     "output_type": "execute_result"
    }
   ],
   "source": [
    "death_causes = {} # Init a dict to store all the death cause codes and how many times.\n",
    "\n",
    "# Define a function to split multiple codes and calculate the numbers of each code.\n",
    "def calculate_death_causes(code):\n",
    "    if type(code) == str:\n",
    "        for i in code.split(','):\n",
    "            if i.strip() not in death_causes and i != '':\n",
    "                death_causes[i.strip()] = 1  # If the death code is not in the dict, put it in and set its number to 1.\n",
    "            elif i != '':\n",
    "                death_causes[i.strip()] += 1 # Otherwise, add 1 to its number.\n",
    "    else:\n",
    "        pass\n",
    "\n",
    "# Apply this function to all the death cause code columns.\n",
    "patient['DEATHCAUSECODE_1A'].map(calculate_death_causes)\n",
    "patient['DEATHCAUSECODE_1B'].map(calculate_death_causes)\n",
    "patient['DEATHCAUSECODE_1C'].map(calculate_death_causes)\n",
    "patient['DEATHCAUSECODE_2'].map(calculate_death_causes)\n",
    "patient['DEATHCAUSECODE_UNDERLYING'].map(calculate_death_causes)\n",
    "\n",
    "# Turn the dict into a Pandas Series Object.\n",
    "death_causes_series = pd.Series(death_causes)\n",
    "death_causes_series['ASPIRATION PNEUMONIA']"
   ]
  },
  {
   "cell_type": "markdown",
   "metadata": {},
   "source": [
    "Length of all the indicdes in the new Series should be less than 5 characters, according to ICD-10 Code standard. However, I then found some descriptive phrases as below about patiens' death causes but they were not recorded in ICD-10 codes.\n",
    "\n",
    "There were many problems with these phrases. For example:\n",
    "- **Inconsistent**: same causes but in different ways of recording: 'ISCHAEMIC HEART DISEASE' and 'Ischaemic Heart Disease'.\n",
    "- **Words lost**: like 'ASPIRATION', which can be 'ASPIRATION PNEUMONIA'.\n",
    "- **Ambiguous**: like 'CANCER OF LUNG' and 'PNEUMONIA'.\n",
    "- **Not listed in ICD-10**: like 'CEREBROVASCULAR ACCIDENT'"
   ]
  },
  {
   "cell_type": "code",
   "execution_count": 24,
   "metadata": {},
   "outputs": [
    {
     "data": {
      "text/plain": [
       "44"
      ]
     },
     "execution_count": 24,
     "metadata": {},
     "output_type": "execute_result"
    }
   ],
   "source": [
    "dc_not_coded = death_causes_series[np.where(death_causes_series.index.map(len) >= 5)[0]]\n",
    "dc_not_coded.sum()"
   ]
  },
  {
   "cell_type": "code",
   "execution_count": 25,
   "metadata": {},
   "outputs": [
    {
     "name": "stdout",
     "output_type": "stream",
     "text": [
      "ISCHAEMIC HEART DISEASE\n",
      "BRONCHOPNEUMONIA\n",
      "CEREBROVASCULAR ACCIDENT\n",
      "CEREBROVASCULAR ACCIDENT\n",
      "DEEP VEIN THROMBOSIS\n",
      "ACUTE CARDIAC FAILURE\n",
      "DEEP VEIN THROMBOSIS\n",
      "RESPIRATORY FAILURE\n",
      "CARDIORESPIRATORY FAILURE\n",
      "PNEUMONIA\n",
      "CARCINOMATOSIS\n",
      "DEEP VEIN THROMBOSIS\n",
      "RESPIRATORY FAILURE\n",
      "CARDIORESPIRATORY FAILURE\n",
      "CORONARY ATHEROSCLEROSIS\n",
      "ISCHAEMIC STROKE\n",
      "BILATEARL PULMONARY EMBOLISM\n",
      " ASPIRATION PNEUMONIA\n",
      "COMPLETELY DISABLED\n",
      "CANCER OF LUNG\n",
      "COMPLETELY DISABLED\n",
      "ISCHAEMIC HEART DISEASE.\n",
      "CORONARY ARTERY ATHEROSCLEROSIS\n",
      "CORONARY ARTERY ATHEROSCLEROSIS\n",
      "COMPLETELY DISABLED\n",
      "CANCER OF LUNG\n",
      "ISCHAEMIC HEART DISEASE.\n",
      "HODGKINS LYMPHOMA\n",
      "HODGKINS LYMPHOMA\n",
      "ACUTE KIDNEY INJURY\n",
      "CHRONIC KIDNEY DISEASE\n",
      " CONGESTIVE CARDIAC FAILURE\n",
      " HYPERTENSION\n",
      "CHRONIC KIDNEY DISEASE\n",
      " CONGESTIVE CARDIAC FAILURE\n",
      " HYPERTENSION\n",
      "Ischaemic\n",
      "Heart\n",
      "Disease\n",
      "DEMENTIA\n",
      "E119.\n",
      "E119.\n",
      "E119.\n",
      "ASPIRATION\n"
     ]
    },
    {
     "data": {
      "text/plain": [
       "44"
      ]
     },
     "execution_count": 25,
     "metadata": {},
     "output_type": "execute_result"
    }
   ],
   "source": [
    "# # patient.drop(patient[patient['DEATHCAUSECODE_1A']])\n",
    "# list(dc_not_coded.index)\n",
    "\n",
    "\n",
    "def check_dc_not_coded(values):\n",
    "    arr = []\n",
    "    for value in values:\n",
    "        if type(value) == str:\n",
    "            for i in value.split(','):\n",
    "                if i.strip() in dc_not_coded.index:\n",
    "                    print(i)\n",
    "                    arr.append(True)\n",
    "                else:\n",
    "                    arr.append(False)\n",
    "        else:\n",
    "            arr.append(False)\n",
    "    return arr\n",
    "\n",
    "\n",
    "len(np.where(check_dc_not_coded(patient['DEATHCAUSECODE_1A'])\n",
    "         + check_dc_not_coded(patient['DEATHCAUSECODE_1B'])\n",
    "         + check_dc_not_coded(patient['DEATHCAUSECODE_1C'])\n",
    "         + check_dc_not_coded(patient['DEATHCAUSECODE_2'])\n",
    "         + check_dc_not_coded(patient['DEATHCAUSECODE_UNDERLYING']))[0])\n",
    "# def check_dc_not_coded(values):\n",
    "#     if type(values) == str:\n",
    "#         for i in values.split(','):\n",
    "#             if i.strip() in dc_not_coded.index:\n",
    "#                 print(i)\n",
    "#                 return True\n",
    "#         else:\n",
    "#             return False\n",
    "#     else:\n",
    "#         return False\n",
    "\n",
    "# check_dc_not_coded(patient['DEATHCAUSECODE_1A'].values)\n",
    "# for i in patient[\"DEATHCAUSECODE_1A\"].values:\n",
    "#     if type(i) == str:\n",
    "#         if len(i) > 5:\n",
    "#             if i.count(',') == 0:\n",
    "#                 print(i)\n",
    "\n",
    "\n",
    "#     \n",
    "# len(np.where(np.array([check_dc_not_coded(x) for x in patient['DEATHCAUSECODE_1B'].values]))[0])\n",
    "        \n",
    "# len(np.concatenate((np.where(np.array([check_dc_not_coded(x) for x in patient['DEATHCAUSECODE_1A'].values]))[0],\n",
    "#                np.where(np.array([check_dc_not_coded(x) for x in patient['DEATHCAUSECODE_1B'].values]))[0],\n",
    "#                np.where(np.array([check_dc_not_coded(x) for x in patient['DEATHCAUSECODE_1C'].values]))[0],\n",
    "#                np.where(np.array([check_dc_not_coded(x) for x in patient['DEATHCAUSECODE_2'].values]))[0],\n",
    "#                np.where(np.array([check_dc_not_coded(x) for x in patient['DEATHCAUSECODE_UNDERLYING'].values]))[0])))\n",
    "\n",
    "\n",
    "# np.where(patient['DEATHCAUSECODE_1A'].values.apply(\"split(',')\").isin(dc_not_coded.index))[0]\n",
    "\n",
    "# patient.drop(np.where(patient[['DEATHCAUSECODE_1A', 'DEATHCAUSECODE_1B', 'DEATHCAUSECODE_1C', 'DEATHCAUSECODE_2', 'DEATHCAUSECODE_UNDERLYING']].isin(dc_not_coded.index))[0])\n",
    "# np.where(patient['DEATHCAUSECODE_2'].valstr.contains('Ischaemic'))\n",
    "# patient['DEATHCAUSECODE_2'].values\n",
    "# np.flatnonzero(np.core.defchararray.find(patient['DEATHCAUSECODE_2'].values, 'Ischaemic')!=-1)\n",
    "# patient.drop(np.where(patient['DEATHCAUSECODE_1A'].isin(dc_not_coded.index))[0])\n",
    "\n",
    "# # type(x)\n",
    "# # t = patient['DEATHCAUSECODE_1A'].isin(x)\n",
    "\n",
    "# # t = np.array([True,True,True,False])\n",
    "# # np.where(t)[0]\n",
    "# # [i for i, x in enumerate(t) if x]\n"
   ]
  },
  {
   "cell_type": "markdown",
   "metadata": {},
   "source": [
    "### Date format conversion and errors on vital status date\n",
    "First we turned the format of vital status dates into `Pandas Timestamp`, which can be easily compared and calculated. Then we found 31 outliers where the date was on 01/01/1990. These can be blank values in database and we decided to drop these entries."
   ]
  },
  {
   "cell_type": "code",
   "execution_count": 11,
   "metadata": {
    "pycharm": {
     "is_executing": false
    }
   },
   "outputs": [],
   "source": [
    "# Turn the vital status data into Pandas Timestamp \n",
    "patient['VITALSTATUSDATE'] = pd.to_datetime(patient['VITALSTATUSDATE'])\n",
    "\n",
    "# Drop the rows with an error on date by comparing with another Timestamp\n",
    "patient.drop(patient[patient['VITALSTATUSDATE'] < pd.Timestamp('2000-01-01 00:00:00')].index, inplace=True)\n",
    "\n",
    "# This line is to check if these entries are dropped and should return no entries\n",
    "# patient[patient['VITALSTATUSDATE'] < pd.Timestamp('2000-01-01 00:00:00')]"
   ]
  },
  {
   "cell_type": "markdown",
   "metadata": {},
   "source": [
    "### Inconsistent column name\n",
    "This table can be linked to the Systemic Anti-Cancer Therapy (SACT) tables (sim_sact) by an overlapped column 'LINKNUMBER' but the names were different in the two tables, so we changged it to 'LINK_NUMBER' in order to keep consistent."
   ]
  },
  {
   "cell_type": "code",
   "execution_count": 12,
   "metadata": {
    "pycharm": {
     "is_executing": false
    }
   },
   "outputs": [],
   "source": [
    "# Change the column name to 'LINK_NUMBER' in place.\n",
    "patient.rename(columns={'LINKNUMBER': 'LINK_NUMBER'}, inplace=True)\n",
    "\n",
    "# This line is to check if the name is correctly changed and should return a Series\n",
    "# patient['LINK_NUMBER']"
   ]
  },
  {
   "cell_type": "code",
   "execution_count": 13,
   "metadata": {
    "pycharm": {
     "is_executing": false
    }
   },
   "outputs": [],
   "source": [
    "\n",
    "# death_causes_1a.idxmin()"
   ]
  },
  {
   "cell_type": "code",
   "execution_count": 14,
   "metadata": {
    "pycharm": {
     "is_executing": false
    }
   },
   "outputs": [
    {
     "ename": "NameError",
     "evalue": "name 'death_cause_1a_num' is not defined",
     "output_type": "error",
     "traceback": [
      "\u001b[0;31m---------------------------------------------------------------------------\u001b[0m",
      "\u001b[0;31mNameError\u001b[0m                                 Traceback (most recent call last)",
      "\u001b[0;32m<ipython-input-14-0cd46513a6c8>\u001b[0m in \u001b[0;36m<module>\u001b[0;34m\u001b[0m\n\u001b[0;32m----> 1\u001b[0;31m \u001b[0mdeath_cause_1a_num\u001b[0m\u001b[0;34m.\u001b[0m\u001b[0mkeys\u001b[0m\u001b[0;34m(\u001b[0m\u001b[0;34m)\u001b[0m\u001b[0;34m\u001b[0m\u001b[0;34m\u001b[0m\u001b[0m\n\u001b[0m\u001b[1;32m      2\u001b[0m \u001b[0;34m\u001b[0m\u001b[0m\n\u001b[1;32m      3\u001b[0m \u001b[0;34m\u001b[0m\u001b[0m\n\u001b[1;32m      4\u001b[0m \u001b[0;32mfor\u001b[0m \u001b[0mi\u001b[0m \u001b[0;32min\u001b[0m \u001b[0mdeath_cause_1a_num\u001b[0m\u001b[0;34m.\u001b[0m\u001b[0mkeys\u001b[0m\u001b[0;34m(\u001b[0m\u001b[0;34m)\u001b[0m\u001b[0;34m:\u001b[0m\u001b[0;34m\u001b[0m\u001b[0;34m\u001b[0m\u001b[0m\n\u001b[1;32m      5\u001b[0m     \u001b[0;32mif\u001b[0m \u001b[0mlen\u001b[0m\u001b[0;34m(\u001b[0m\u001b[0mi\u001b[0m\u001b[0;34m)\u001b[0m \u001b[0;34m>=\u001b[0m \u001b[0;36m5\u001b[0m\u001b[0;34m:\u001b[0m\u001b[0;34m\u001b[0m\u001b[0;34m\u001b[0m\u001b[0m\n",
      "\u001b[0;31mNameError\u001b[0m: name 'death_cause_1a_num' is not defined"
     ]
    }
   ],
   "source": [
    "death_cause_1a_num.keys()\n",
    "\n",
    "\n",
    "for i in death_cause_1a_num.keys():\n",
    "    if len(i) >= 5:\n",
    "        print(i, death_cause_1a_num[i])"
   ]
  },
  {
   "cell_type": "code",
   "execution_count": null,
   "metadata": {},
   "outputs": [],
   "source": []
  },
  {
   "cell_type": "code",
   "execution_count": null,
   "metadata": {},
   "outputs": [],
   "source": []
  },
  {
   "cell_type": "code",
   "execution_count": null,
   "metadata": {
    "pycharm": {
     "is_executing": false
    }
   },
   "outputs": [],
   "source": [
    "patient[patient['DEATHCAUSECODE_1A'] == 'C793 C780 C779 C795']"
   ]
  },
  {
   "cell_type": "markdown",
   "metadata": {},
   "source": [
    "## Demographic Information\n",
    "\n",
    "[Ethnicity Category Code](https://www.datadictionary.nhs.uk/data_dictionary/attributes/e/end/ethnic_category_code_de.asp)"
   ]
  },
  {
   "cell_type": "code",
   "execution_count": null,
   "metadata": {
    "pycharm": {
     "is_executing": false
    }
   },
   "outputs": [],
   "source": [
    "# Group the data by sex and ethnicity to see the demographic information of patients.\n",
    "group_a = patient.groupby(['SEX', 'ETHNICITY' ]).count()\n",
    "\n",
    "# The proportion of ethnic groups among male patients\n",
    "m_ethnicity = group_a['PATIENTID'][0:20]\n",
    "m_ethnicity_codes = [x[1] for x in m_ethnicity.index]\n",
    "ethnicity_names = ['', '', 'British', 'Irish', 'Any other White background', 'White and Black Caribbean', 'White and Black African', 'White and Asian', 'Any other mixed background', 'Indian', 'Pakistani', 'Bangladeshi', 'Any other Asian background', 'Caribbean', 'African', 'Any other black background', 'Chinese', 'Any other ethnic group', '', 'Not stated']\n",
    "m_labels = list(zip(m_ethnicity_codes, ethnicity_names))\n",
    "\n",
    "# # The proportion of ethnic groups among non-British male patients\n",
    "m_non_british = m_ethnicity.drop(labels=(1, 'A'))\n",
    "m_non_british_labels = list(zip(m_ethnicity_codes, ethnicity_names))\n",
    "m_non_british_labels.remove(('A', 'British'))"
   ]
  },
  {
   "cell_type": "code",
   "execution_count": null,
   "metadata": {
    "pycharm": {
     "is_executing": false
    }
   },
   "outputs": [],
   "source": [
    "# Visualise the proportion in two pie charts\n",
    "fig1, ax1 = plt.subplots(1, 2, figsize=(24, 24))\n",
    "ax1[0].pie(m_ethnicity, textprops={'fontsize': 8})\n",
    "ax1[1].pie(m_non_british, labels= [x[0] for x in m_non_british_labels])\n",
    "ax1[0].set_title('Proportion of ethnic groups(Male)')\n",
    "ax1[1].set_title('Proportion of ethnic groups(Male, exclude British)')\n",
    "ax1[0].legend(m_labels)\n",
    "ax1[1].legend(m_non_british_labels)\n",
    "\n",
    "plt.show()"
   ]
  },
  {
   "cell_type": "code",
   "execution_count": null,
   "metadata": {
    "pycharm": {
     "is_executing": false
    }
   },
   "outputs": [],
   "source": [
    "# The proportion of ethnic groups among female patients\n",
    "fm_ethnicity = group_a['PATIENTID'][20:40]\n",
    "fm_ethnicity_codes = [x[1] for x in fm_ethnicity.index]\n",
    "fm_labels = list(zip(fm_ethnicity_codes, ethnicity_names))\n",
    "\n",
    "# The proportion of ethnic groups among non-british female patients\n",
    "fm_non_british = fm_ethnicity.drop(labels=(2, 'A'))\n",
    "fm_non_british_labels = list(zip(fm_ethnicity_codes, ethnicity_names))\n",
    "fm_non_british_labels.remove(('A', 'British'))"
   ]
  },
  {
   "cell_type": "code",
   "execution_count": null,
   "metadata": {
    "pycharm": {
     "is_executing": false
    }
   },
   "outputs": [],
   "source": [
    "# Visualise the proportion in two pie charts\n",
    "fig2, ax2 = plt.subplots(1, 2, figsize=(24, 24))\n",
    "ax2[0].pie(fm_ethnicity)\n",
    "ax2[1].pie(fm_non_british, labels=[x[0] for x in fm_non_british_labels])\n",
    "ax2[0].set_title('Proportion of ethnic groups(Female)')\n",
    "ax2[1].set_title('Proportion of ethnic groups(Female, exclude British)')\n",
    "ax2[0].legend(fm_labels)\n",
    "ax2[1].legend(fm_non_british_labels)\n",
    "\n",
    "plt.show()"
   ]
  },
  {
   "cell_type": "code",
   "execution_count": null,
   "metadata": {
    "pycharm": {
     "is_executing": false
    }
   },
   "outputs": [],
   "source": [
    "group_b = patient.groupby('DEATHCAUSECODE_1A').count()\n",
    "# group_b\n",
    "# group_b['PATIENTID'].plot()"
   ]
  },
  {
   "cell_type": "code",
   "execution_count": null,
   "metadata": {
    "pycharm": {
     "is_executing": false
    }
   },
   "outputs": [],
   "source": [
    "patient['DEATHLOCATIONCODE'].value_counts().sum()"
   ]
  },
  {
   "cell_type": "markdown",
   "metadata": {},
   "source": [
    "## Death Location"
   ]
  },
  {
   "cell_type": "code",
   "execution_count": null,
   "metadata": {
    "pycharm": {
     "is_executing": false
    }
   },
   "outputs": [],
   "source": [
    "patient['DEATHLOCATIONCODE'].value_counts()"
   ]
  },
  {
   "cell_type": "markdown",
   "metadata": {},
   "source": [
    "## Death Causes\n",
    "\n",
    "142,407 patients died because of bronchus or lung "
   ]
  },
  {
   "cell_type": "code",
   "execution_count": null,
   "metadata": {
    "pycharm": {
     "is_executing": false
    }
   },
   "outputs": [],
   "source": [
    "death_causes_1a = pd.Series(death_cause_1a_num)\n",
    "\n",
    "print(death_causes_1a.idxmax(), death_causes_1a.max())\n",
    "print(death_causes_1a.idxmin(), death_causes_1a.min())"
   ]
  },
  {
   "cell_type": "markdown",
   "metadata": {},
   "source": [
    "## Reference\n",
    "[Ethnicity Category Code](https://www.datadictionary.nhs.uk/data_dictionary/attributes/e/end/ethnic_category_code_de.asp)"
   ]
  },
  {
   "cell_type": "code",
   "execution_count": null,
   "metadata": {},
   "outputs": [],
   "source": [
    "# patient.describe()\n",
    "# patient['DEATHCAUSECODE_1A'][]\n",
    "\n"
   ]
  },
  {
   "cell_type": "code",
   "execution_count": null,
   "metadata": {},
   "outputs": [],
   "source": [
    "# patient['VITALSTATUSDATE'] = pd.to_datetime(patient['VITALSTATUSDATE'])\n",
    "\n",
    "# patient[patient['VITALSTATUSDATE']<pd.Timestamp('2000-01-01 00:00:00')]\n",
    "\n",
    "# clean_data = patient.drop(patient[patient['VITALSTATUSDATE'] == '1900-01-01'].index)\n",
    "# sns.scatterplot(x=clean_data['VITALSTATUSDATE'], y=clean_data['VITALSTATUSDATE'])\n",
    "# patient['VITALSTATUSDATE'][0]\n",
    "# plt.show()"
   ]
  },
  {
   "cell_type": "code",
   "execution_count": null,
   "metadata": {},
   "outputs": [],
   "source": []
  },
  {
   "cell_type": "code",
   "execution_count": null,
   "metadata": {},
   "outputs": [],
   "source": []
  },
  {
   "cell_type": "code",
   "execution_count": null,
   "metadata": {},
   "outputs": [],
   "source": []
  }
 ],
 "metadata": {
  "kernelspec": {
   "display_name": "Python 3",
   "language": "python",
   "name": "python3"
  },
  "language_info": {
   "codemirror_mode": {
    "name": "ipython",
    "version": 3
   },
   "file_extension": ".py",
   "mimetype": "text/x-python",
   "name": "python",
   "nbconvert_exporter": "python",
   "pygments_lexer": "ipython3",
   "version": "3.7.5"
  },
  "pycharm": {
   "stem_cell": {
    "cell_type": "raw",
    "metadata": {
     "collapsed": false
    },
    "source": []
   }
  }
 },
 "nbformat": 4,
 "nbformat_minor": 4
}
